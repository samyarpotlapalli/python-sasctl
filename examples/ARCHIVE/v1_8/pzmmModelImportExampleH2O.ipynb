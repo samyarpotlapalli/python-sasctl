{
 "cells": [
  {
   "cell_type": "markdown",
   "metadata": {
    "Collapsed": "false"
   },
   "source": [
    "Copyright © 2021, SAS Institute Inc., Cary, NC, USA.  All Rights Reserved.\n",
    "SPDX-License-Identifier: Apache-2.0"
   ]
  },
  {
   "cell_type": "markdown",
   "metadata": {
    "Collapsed": "false"
   },
   "source": [
    "# HMEQ Dataset : Build and Import Trained Models into SAS Model Manager on SAS Viya 3.5\n",
    "\n",
    "This notebook provides an example of how to build and train a Python model and then import the model into SAS Model Manager using the fleet maintenance data set. Lines of code that must be modified by the user, such as directory paths are noted with the comment \"_Changes required by user._\".\n",
    "\n",
    "_**Note:** If you download only this notebook and not the rest of the repository, you must also download the hmeq.csv file from the data folder in the examples directory. These files are used when executing this notebook example._\n",
    "\n",
    "Here are the steps shown in this notebook:\n",
    "\n",
    "1. Import and review data and preprocess for model training.\n",
    "2. Build, train, and access an H2O.ai generalized linear estimator model.\n",
    "3. Serialize the model into pickle or MOJO files.\n",
    "4. Write the metadata JSON files needed for importing into SAS Model Manager.\n",
    "4. Write a score code Python file for model scoring.\n",
    "5. Zip the model, JSON, and score code files into an archive file.\n",
    "6. Import the ZIP archive file to SAS Model Manager via the Session object and relevant function call."
   ]
  },
  {
   "cell_type": "markdown",
   "metadata": {
    "Collapsed": "false"
   },
   "source": [
    "### Python Package Imports"
   ]
  },
  {
   "cell_type": "code",
   "execution_count": null,
   "metadata": {
    "Collapsed": "false"
   },
   "outputs": [],
   "source": [
    "# Dataframes for data manipulations\n",
    "import pandas as pd\n",
    "pd.options.mode.chained_assignment = None  # default='warn'\n",
    "# Mathematical calculations and array handling\n",
    "import numpy as np\n",
    "\n",
    "# Pathing support\n",
    "from pathlib import Path\n",
    "\n",
    "# Import H2O and check the version\n",
    "import h2o\n",
    "from h2o.estimators.glm import H2OGeneralizedLinearEstimator\n",
    "\n",
    "# sasctl interface for importing models\n",
    "import sasctl.pzmm as pzmm\n",
    "from sasctl import Session"
   ]
  },
  {
   "cell_type": "code",
   "execution_count": null,
   "metadata": {},
   "outputs": [],
   "source": [
    "h2o.__version__"
   ]
  },
  {
   "cell_type": "markdown",
   "metadata": {},
   "source": [
    "On SAS Viya 3.5, models created in H2O versions 3.24 and under are only compatible in the binary model format. For H2O versions 3.26+, models can be in the MOJO or binary model format. If using a binary model, the H2O version on the SAS Viya server must match the version of H2O used to create the model."
   ]
  },
  {
   "cell_type": "code",
   "execution_count": null,
   "metadata": {},
   "outputs": [],
   "source": [
    "h2o.init()"
   ]
  },
  {
   "cell_type": "markdown",
   "metadata": {
    "Collapsed": "false"
   },
   "source": [
    "### Import and Review Data Set"
   ]
  },
  {
   "cell_type": "code",
   "execution_count": null,
   "metadata": {
    "Collapsed": "false"
   },
   "outputs": [],
   "source": [
    "hmeqData = h2o.import_file('data/hmeq.csv',sep= ',')\n",
    "hmeqData.shape"
   ]
  },
  {
   "cell_type": "markdown",
   "metadata": {
    "Collapsed": "false"
   },
   "source": [
    "### Preprocess Data"
   ]
  },
  {
   "cell_type": "code",
   "execution_count": null,
   "metadata": {
    "Collapsed": "false"
   },
   "outputs": [],
   "source": [
    "hmeqData['BAD'] = hmeqData['BAD'].asfactor()\n",
    "\n",
    "train, validation, test = hmeqData.split_frame(ratios=[.6, .2], seed=42)\n",
    "\n",
    "y = 'BAD'\n",
    "x = list(hmeqData.columns)\n",
    "x.remove(y)"
   ]
  },
  {
   "cell_type": "markdown",
   "metadata": {
    "Collapsed": "false"
   },
   "source": [
    "### Create, Train, and Assess Model"
   ]
  },
  {
   "cell_type": "code",
   "execution_count": null,
   "metadata": {
    "Collapsed": "false"
   },
   "outputs": [],
   "source": [
    "glmFit = H2OGeneralizedLinearEstimator(family='binomial', model_id='glmfit', lambda_search=True)\n",
    "glmFit.train(x=x, y=y, training_frame=train, validation_frame=validation)"
   ]
  },
  {
   "cell_type": "code",
   "execution_count": null,
   "metadata": {
    "Collapsed": "false"
   },
   "outputs": [],
   "source": [
    "# Check the model performance and print its accuracy\n",
    "glmPerf = glmFit.model_performance(test)\n",
    "print(glmPerf.accuracy())"
   ]
  },
  {
   "cell_type": "markdown",
   "metadata": {},
   "source": [
    "#### Choice Point\n",
    "The next two cells represent the saving process for binary and MOJO H2O models respectively. "
   ]
  },
  {
   "cell_type": "code",
   "execution_count": null,
   "metadata": {},
   "outputs": [],
   "source": [
    "h2o.save_model(glmFit, path='data/hmeqModels/H2OBinaryGLM')"
   ]
  },
  {
   "cell_type": "code",
   "execution_count": null,
   "metadata": {},
   "outputs": [],
   "source": [
    "#glmFit.save_mojo(path='data/hmeqModels/H2OMOJOGLM')"
   ]
  },
  {
   "cell_type": "markdown",
   "metadata": {
    "Collapsed": "false"
   },
   "source": [
    "### Register Model in SAS Model Manager with pzmm\n",
    "*Commented out lines are for MOJO models*"
   ]
  },
  {
   "cell_type": "code",
   "execution_count": null,
   "metadata": {
    "Collapsed": "false"
   },
   "outputs": [],
   "source": [
    "modelPrefix = 'glmFit'\n",
    "zipFolder = Path.cwd() / 'data/hmeqModels/H2OBinaryGLM/'\n",
    "pzmm.PickleModel.pickle_trained_model(glmFit, modelPrefix, zipFolder, is_h2o_model=True, is_binary_model=True)\n",
    "#pzmm.PickleModle.pickle_trained_model(glmFit, modelPrefix, zipFolder, is_h2o_model=True)"
   ]
  },
  {
   "cell_type": "code",
   "execution_count": null,
   "metadata": {
    "Collapsed": "false"
   },
   "outputs": [],
   "source": [
    "trainDF = train.as_data_frame()\n",
    "J = pzmm.JSONFiles()\n",
    "\n",
    "# Write input variable mapping to a json file\n",
    "J.writeVarJSON(trainDF[x], isInput=True, jPath=zipFolder)\n",
    "\n",
    "# Set output variables and assign an event threshold, then write output variable mapping\n",
    "outputVar = pd.DataFrame(columns=['EM_EVENTPROBABILITY', 'EM_CLASSIFICATION'])\n",
    "outputVar['EM_CLASSIFICATION'] = trainDF[y].astype('category').cat.categories.astype('str')\n",
    "outputVar['EM_EVENTPROBABILITY'] = 0.5 # Event threshold\n",
    "J.writeVarJSON(outputVar, isInput=False, jPath=zipFolder)\n",
    "\n",
    "# Write model properties to a json file\n",
    "J.writeModelPropertiesJSON(modelName=modelPrefix,\n",
    "                            modelDesc='',\n",
    "                            targetVariable=y,\n",
    "                            modelType='',\n",
    "                            modelPredictors=x,\n",
    "                            targetEvent=1,\n",
    "                            numTargetCategories=1,\n",
    "                            eventProbVar='EM_EVENTPROBABILITY',\n",
    "                            jPath=zipFolder,\n",
    "                            modeler='sasdemo')\n",
    "\n",
    "# Write model metadata to a json file\n",
    "J.writeFileMetadataJSON(modelPrefix, jPath=zipFolder) #isH2OModel=True for MOJO model"
   ]
  },
  {
   "cell_type": "code",
   "execution_count": null,
   "metadata": {
    "Collapsed": "false"
   },
   "outputs": [],
   "source": [
    "import getpass\n",
    "username = getpass.getpass()\n",
    "password = getpass.getpass()\n",
    "host = 'sas.demo.com'\n",
    "sess = Session(host, username, password, protocol='http')"
   ]
  },
  {
   "cell_type": "code",
   "execution_count": null,
   "metadata": {
    "Collapsed": "false"
   },
   "outputs": [],
   "source": [
    "pzmm.ImportModel.pzmmImportModel(zipFolder, modelPrefix, 'BinaryH2OExample', trainDF[x], trainDF[y], predictmethod=None, is_h2o_model=True, force=True)\n",
    "#pzmm.ImportModel.pzmmImportModel(zipFolder, modelPrefix, 'MOJOH2OExample', trainDF[x], trainDF[y], predictMethod='{}.predict({})', is_h2o_model=True, force=True)"
   ]
  }
 ],
 "metadata": {
  "interpreter": {
   "hash": "f9708d3f38eeab835578f0695c8890716ee809285281a28db6e379a5abca1310"
  },
  "kernelspec": {
   "display_name": "Python 3 (ipykernel)",
   "language": "python",
   "name": "python3"
  },
  "language_info": {
   "codemirror_mode": {
    "name": "ipython",
    "version": 3
   },
   "file_extension": ".py",
   "mimetype": "text/x-python",
   "name": "python",
   "nbconvert_exporter": "python",
   "pygments_lexer": "ipython3",
   "version": "3.8.16"
  },
  "latex_envs": {
   "LaTeX_envs_menu_present": true,
   "autoclose": true,
   "autocomplete": true,
   "bibliofile": "biblio.bib",
   "cite_by": "apalike",
   "current_citInitial": 1,
   "eqLabelWithNumbers": true,
   "eqNumInitial": 1,
   "hotkeys": {
    "equation": "Ctrl-E",
    "itemize": "Ctrl-I"
   },
   "labels_anchors": false,
   "latex_user_defs": false,
   "report_style_numbering": false,
   "user_envs_cfg": false
  },
  "varInspector": {
   "cols": {
    "lenName": 16,
    "lenType": 16,
    "lenVar": 40
   },
   "kernels_config": {
    "python": {
     "delete_cmd_postfix": "",
     "delete_cmd_prefix": "del ",
     "library": "var_list.py",
     "varRefreshCmd": "print(var_dic_list())"
    },
    "r": {
     "delete_cmd_postfix": ") ",
     "delete_cmd_prefix": "rm(",
     "library": "var_list.r",
     "varRefreshCmd": "cat(var_dic_list()) "
    }
   },
   "types_to_exclude": [
    "module",
    "function",
    "builtin_function_or_method",
    "instance",
    "_Feature"
   ],
   "window_display": false
  }
 },
 "nbformat": 4,
 "nbformat_minor": 4
}
