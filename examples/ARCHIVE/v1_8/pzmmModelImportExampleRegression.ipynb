{
 "cells": [
  {
   "cell_type": "markdown",
   "metadata": {
    "Collapsed": "false"
   },
   "source": [
    "Copyright © 2020, SAS Institute Inc., Cary, NC, USA.  All Rights Reserved.\n",
    "SPDX-License-Identifier: Apache-2.0"
   ]
  },
  {
   "cell_type": "markdown",
   "metadata": {
    "Collapsed": "false"
   },
   "source": [
    "### Python Package Imports"
   ]
  },
  {
   "cell_type": "code",
   "execution_count": 1,
   "metadata": {
    "Collapsed": "false",
    "ExecuteTime": {
     "end_time": "2023-04-03T14:28:44.170919Z",
     "start_time": "2023-04-03T14:28:41.650760Z"
    }
   },
   "outputs": [],
   "source": [
    "# Dataframes for data manipulations\n",
    "import pandas as pd\n",
    "pd.options.mode.chained_assignment = None  # default='warn'\n",
    "# Mathematical calculations and array handling\n",
    "import numpy as np\n",
    "\n",
    "# Data partitioning for TRAIN and TEST data sets\n",
    "from sklearn.model_selection import train_test_split\n",
    "\n",
    "# Embedded plotting\n",
    "import matplotlib.pyplot as plt \n",
    "plt.rc(\"font\", size=14)\n",
    "\n",
    "# Pathing support\n",
    "from pathlib import Path\n",
    "\n",
    "# sasctl interface for importing models\n",
    "import sasctl.pzmm as pzmm\n",
    "from sasctl import Session\n",
    "from sasctl.services import model_repository as modelRepo"
   ]
  },
  {
   "cell_type": "markdown",
   "metadata": {
    "Collapsed": "false"
   },
   "source": [
    "### Import and Review Data Set"
   ]
  },
  {
   "cell_type": "code",
   "execution_count": 5,
   "metadata": {
    "Collapsed": "false",
    "ExecuteTime": {
     "end_time": "2023-04-03T14:29:22.362807Z",
     "start_time": "2023-04-03T14:29:22.227471Z"
    }
   },
   "outputs": [
    {
     "data": {
      "text/plain": [
       "(5000, 7)"
      ]
     },
     "execution_count": 5,
     "metadata": {},
     "output_type": "execute_result"
    }
   ],
   "source": [
    "housingData = pd.read_csv('../../data/USA_Housing.csv',sep= ',')\n",
    "housingData.shape"
   ]
  },
  {
   "cell_type": "code",
   "execution_count": 6,
   "metadata": {
    "Collapsed": "false",
    "ExecuteTime": {
     "end_time": "2023-04-03T14:29:24.284223Z",
     "start_time": "2023-04-03T14:29:24.269273Z"
    }
   },
   "outputs": [
    {
     "data": {
      "text/html": [
       "<div>\n",
       "<style scoped>\n",
       "    .dataframe tbody tr th:only-of-type {\n",
       "        vertical-align: middle;\n",
       "    }\n",
       "\n",
       "    .dataframe tbody tr th {\n",
       "        vertical-align: top;\n",
       "    }\n",
       "\n",
       "    .dataframe thead th {\n",
       "        text-align: right;\n",
       "    }\n",
       "</style>\n",
       "<table border=\"1\" class=\"dataframe\">\n",
       "  <thead>\n",
       "    <tr style=\"text-align: right;\">\n",
       "      <th></th>\n",
       "      <th>Avg_Area_Income</th>\n",
       "      <th>Avg_Area_House_Age</th>\n",
       "      <th>Avg_Area_Number_of_Rooms</th>\n",
       "      <th>Avg_Area_Number_of_Bedrooms</th>\n",
       "      <th>Area_Population</th>\n",
       "      <th>Price</th>\n",
       "    </tr>\n",
       "  </thead>\n",
       "  <tbody>\n",
       "    <tr>\n",
       "      <th>0</th>\n",
       "      <td>79545.45857</td>\n",
       "      <td>5.682861</td>\n",
       "      <td>7.009188</td>\n",
       "      <td>4.09</td>\n",
       "      <td>23086.80050</td>\n",
       "      <td>1.059034e+06</td>\n",
       "    </tr>\n",
       "    <tr>\n",
       "      <th>1</th>\n",
       "      <td>79248.64245</td>\n",
       "      <td>6.002900</td>\n",
       "      <td>6.730821</td>\n",
       "      <td>3.09</td>\n",
       "      <td>40173.07217</td>\n",
       "      <td>1.505891e+06</td>\n",
       "    </tr>\n",
       "    <tr>\n",
       "      <th>2</th>\n",
       "      <td>61287.06718</td>\n",
       "      <td>5.865890</td>\n",
       "      <td>8.512727</td>\n",
       "      <td>5.13</td>\n",
       "      <td>36882.15940</td>\n",
       "      <td>1.058988e+06</td>\n",
       "    </tr>\n",
       "    <tr>\n",
       "      <th>3</th>\n",
       "      <td>63345.24005</td>\n",
       "      <td>7.188236</td>\n",
       "      <td>5.586729</td>\n",
       "      <td>3.26</td>\n",
       "      <td>34310.24283</td>\n",
       "      <td>1.260617e+06</td>\n",
       "    </tr>\n",
       "    <tr>\n",
       "      <th>4</th>\n",
       "      <td>59982.19723</td>\n",
       "      <td>5.040555</td>\n",
       "      <td>7.839388</td>\n",
       "      <td>4.23</td>\n",
       "      <td>26354.10947</td>\n",
       "      <td>6.309435e+05</td>\n",
       "    </tr>\n",
       "  </tbody>\n",
       "</table>\n",
       "</div>"
      ],
      "text/plain": [
       "   Avg_Area_Income  Avg_Area_House_Age  Avg_Area_Number_of_Rooms  \\\n",
       "0      79545.45857            5.682861                  7.009188   \n",
       "1      79248.64245            6.002900                  6.730821   \n",
       "2      61287.06718            5.865890                  8.512727   \n",
       "3      63345.24005            7.188236                  5.586729   \n",
       "4      59982.19723            5.040555                  7.839388   \n",
       "\n",
       "   Avg_Area_Number_of_Bedrooms  Area_Population         Price  \n",
       "0                         4.09      23086.80050  1.059034e+06  \n",
       "1                         3.09      40173.07217  1.505891e+06  \n",
       "2                         5.13      36882.15940  1.058988e+06  \n",
       "3                         3.26      34310.24283  1.260617e+06  \n",
       "4                         4.23      26354.10947  6.309435e+05  "
      ]
     },
     "execution_count": 6,
     "metadata": {},
     "output_type": "execute_result"
    }
   ],
   "source": [
    "housingData = housingData.drop(['Address'], axis=1)\n",
    "housingData.head()"
   ]
  },
  {
   "cell_type": "code",
   "execution_count": 7,
   "metadata": {
    "Collapsed": "false",
    "ExecuteTime": {
     "end_time": "2023-04-03T14:29:25.456875Z",
     "start_time": "2023-04-03T14:29:25.450876Z"
    },
    "scrolled": true
   },
   "outputs": [
    {
     "data": {
      "text/plain": [
       "Index(['Avg_Area_Income', 'Avg_Area_House_Age', 'Avg_Area_Number_of_Rooms',\n",
       "       'Avg_Area_Number_of_Bedrooms', 'Area_Population', 'Price'],\n",
       "      dtype='object')"
      ]
     },
     "execution_count": 7,
     "metadata": {},
     "output_type": "execute_result"
    }
   ],
   "source": [
    "housingData.columns"
   ]
  },
  {
   "cell_type": "markdown",
   "metadata": {
    "Collapsed": "false"
   },
   "source": [
    "### Preprocess Data"
   ]
  },
  {
   "cell_type": "code",
   "execution_count": 8,
   "metadata": {
    "Collapsed": "false",
    "ExecuteTime": {
     "end_time": "2023-04-03T14:29:38.649081Z",
     "start_time": "2023-04-03T14:29:38.634078Z"
    }
   },
   "outputs": [
    {
     "name": "stdout",
     "output_type": "stream",
     "text": [
      "(1500, 5)\n",
      "(3500, 5)\n"
     ]
    }
   ],
   "source": [
    "# Input \n",
    "predictorColumns = ['Avg_Area_Income', 'Avg_Area_House_Age', 'Avg_Area_Number_of_Rooms', \n",
    "                    'Avg_Area_Number_of_Bedrooms', 'Area_Population']\n",
    "\n",
    "# Target\n",
    "targetColumn = 'Price'\n",
    "x = housingData[predictorColumns]\n",
    "y = housingData[targetColumn]\n",
    "\n",
    "xTrain, xTest, yTrain, yTest = train_test_split(x, y, test_size=0.3, random_state=42)\n",
    "\n",
    "# For missing values, impute the data set's mean value\n",
    "xTest.fillna(xTest.mean(), inplace=True)\n",
    "xTrain.fillna(xTrain.mean(), inplace=True)\n",
    "print(xTest.shape)\n",
    "print(xTrain.shape)"
   ]
  },
  {
   "cell_type": "markdown",
   "metadata": {
    "Collapsed": "false"
   },
   "source": [
    "### Create, Train, and Assess Model"
   ]
  },
  {
   "cell_type": "code",
   "execution_count": 9,
   "metadata": {
    "Collapsed": "false",
    "ExecuteTime": {
     "end_time": "2023-04-03T14:29:40.804108Z",
     "start_time": "2023-04-03T14:29:40.673110Z"
    }
   },
   "outputs": [
    {
     "name": "stderr",
     "output_type": "stream",
     "text": [
      "C:\\ProgramData\\Anaconda3\\lib\\site-packages\\sklearn\\linear_model\\_base.py:141: FutureWarning: 'normalize' was deprecated in version 1.0 and will be removed in 1.2.\n",
      "If you wish to scale the data, use Pipeline with a StandardScaler in a preprocessing stage. To reproduce the previous behavior:\n",
      "\n",
      "from sklearn.pipeline import make_pipeline\n",
      "\n",
      "model = make_pipeline(StandardScaler(with_mean=False), LinearRegression())\n",
      "\n",
      "If you wish to pass a sample_weight parameter, you need to pass it as a fit parameter to each step of the pipeline as follows:\n",
      "\n",
      "kwargs = {s[0] + '__sample_weight': sample_weight for s in model.steps}\n",
      "model.fit(X, y, **kwargs)\n",
      "\n",
      "\n",
      "  warnings.warn(\n"
     ]
    },
    {
     "data": {
      "text/plain": [
       "LinearRegression(normalize=True)"
      ]
     },
     "execution_count": 9,
     "metadata": {},
     "output_type": "execute_result"
    }
   ],
   "source": [
    "# Linear Regression Training\n",
    "from sklearn.linear_model import LinearRegression\n",
    "linReg = LinearRegression(normalize=True)\n",
    "linReg.fit(xTrain, yTrain)"
   ]
  },
  {
   "cell_type": "code",
   "execution_count": 10,
   "metadata": {
    "Collapsed": "false",
    "ExecuteTime": {
     "end_time": "2023-04-03T14:29:42.800193Z",
     "start_time": "2023-04-03T14:29:42.787165Z"
    }
   },
   "outputs": [
    {
     "name": "stdout",
     "output_type": "stream",
     "text": [
      "0.9146818498916266\n"
     ]
    }
   ],
   "source": [
    "# Test Predictions\n",
    "from sklearn import metrics\n",
    "LRPredict = linReg.predict(xTest)\n",
    "print(metrics.r2_score(yTest, LRPredict))"
   ]
  },
  {
   "cell_type": "markdown",
   "metadata": {
    "Collapsed": "false"
   },
   "source": [
    "### Zip file for registering into SAS Model Manager"
   ]
  },
  {
   "cell_type": "code",
   "execution_count": 11,
   "metadata": {
    "Collapsed": "false",
    "ExecuteTime": {
     "end_time": "2023-04-03T14:34:10.912291Z",
     "start_time": "2023-04-03T14:34:10.906281Z"
    }
   },
   "outputs": [
    {
     "name": "stdout",
     "output_type": "stream",
     "text": [
      "Model LinearRegression was successfully pickled and saved to C:\\Users\\sclind\\Documents\\Python Scripts\\GitHub\\sassoftware\\python-sasctl\\examples\\ARCHIVE\\v1_8\\RegressionModel\\LinearRegression.pickle.\n"
     ]
    }
   ],
   "source": [
    "modelPrefix = 'LinearRegression'\n",
    "zipFolder = Path.cwd() / 'RegressionModel/'\n",
    "\n",
    "pzmm.PickleModel.pickle_trained_model(linReg, modelPrefix, zipFolder)"
   ]
  },
  {
   "cell_type": "code",
   "execution_count": 13,
   "metadata": {
    "Collapsed": "false",
    "ExecuteTime": {
     "end_time": "2023-04-03T14:35:59.447060Z",
     "start_time": "2023-04-03T14:35:59.327305Z"
    }
   },
   "outputs": [
    {
     "name": "stdout",
     "output_type": "stream",
     "text": [
      "inputVar.json was successfully written and saved to C:\\Users\\sclind\\Documents\\Python Scripts\\GitHub\\sassoftware\\python-sasctl\\examples\\ARCHIVE\\v1_8\\RegressionModel\\inputVar.json\n",
      "outputVar.json was successfully written and saved to C:\\Users\\sclind\\Documents\\Python Scripts\\GitHub\\sassoftware\\python-sasctl\\examples\\ARCHIVE\\v1_8\\RegressionModel\\outputVar.json\n",
      "ModelProperties.json was successfully written and saved to C:\\Users\\sclind\\Documents\\Python Scripts\\GitHub\\sassoftware\\python-sasctl\\examples\\ARCHIVE\\v1_8\\RegressionModel\\ModelProperties.json\n",
      "fileMetaData.json was successfully written and saved to C:\\Users\\sclind\\Documents\\Python Scripts\\GitHub\\sassoftware\\python-sasctl\\examples\\ARCHIVE\\v1_8\\RegressionModel\\fileMetaData.json\n"
     ]
    },
    {
     "name": "stderr",
     "output_type": "stream",
     "text": [
      "C:\\Users\\sclind\\AppData\\Roaming\\Python\\Python39\\site-packages\\sasctl\\pzmm\\write_json_files.py:133: FutureWarning: The frame.append method is deprecated and will be removed from pandas in a future version. Use pandas.concat instead.\n",
      "  outputJSON = outputJSON.append([outputRow], ignore_index=True)\n",
      "C:\\Users\\sclind\\AppData\\Roaming\\Python\\Python39\\site-packages\\sasctl\\pzmm\\write_json_files.py:133: FutureWarning: The frame.append method is deprecated and will be removed from pandas in a future version. Use pandas.concat instead.\n",
      "  outputJSON = outputJSON.append([outputRow], ignore_index=True)\n",
      "C:\\Users\\sclind\\AppData\\Roaming\\Python\\Python39\\site-packages\\sasctl\\pzmm\\write_json_files.py:133: FutureWarning: The frame.append method is deprecated and will be removed from pandas in a future version. Use pandas.concat instead.\n",
      "  outputJSON = outputJSON.append([outputRow], ignore_index=True)\n",
      "C:\\Users\\sclind\\AppData\\Roaming\\Python\\Python39\\site-packages\\sasctl\\pzmm\\write_json_files.py:133: FutureWarning: The frame.append method is deprecated and will be removed from pandas in a future version. Use pandas.concat instead.\n",
      "  outputJSON = outputJSON.append([outputRow], ignore_index=True)\n",
      "C:\\Users\\sclind\\AppData\\Roaming\\Python\\Python39\\site-packages\\sasctl\\pzmm\\write_json_files.py:133: FutureWarning: The frame.append method is deprecated and will be removed from pandas in a future version. Use pandas.concat instead.\n",
      "  outputJSON = outputJSON.append([outputRow], ignore_index=True)\n",
      "C:\\Users\\sclind\\AppData\\Roaming\\Python\\Python39\\site-packages\\sasctl\\pzmm\\write_json_files.py:133: FutureWarning: The frame.append method is deprecated and will be removed from pandas in a future version. Use pandas.concat instead.\n",
      "  outputJSON = outputJSON.append([outputRow], ignore_index=True)\n"
     ]
    }
   ],
   "source": [
    "def writeJSONFiles(data, predict, target, zipFolder, modelPrefix):\n",
    "    J = pzmm.JSONFiles()\n",
    "    \n",
    "    # Write input variable mapping to a json file\n",
    "    J.writeVarJSON(data[predict], isInput=True, jPath=zipFolder)\n",
    "    \n",
    "    # Set output variables and assign an event threshold, then write output variable mapping\n",
    "    outputVar = pd.DataFrame(data=[[0.5]], columns=['EM_PREDICTION'])\n",
    "    J.writeVarJSON(outputVar, isInput=False, jPath=zipFolder)\n",
    "    \n",
    "    # Write model properties to a json file\n",
    "    J.writeModelPropertiesJSON(modelName=modelPrefix,\n",
    "                               modelDesc='',\n",
    "                               targetVariable=target,\n",
    "                               modelType='',\n",
    "                               modelPredictors=predict,\n",
    "                               targetEvent=None,\n",
    "                               numTargetCategories=1,\n",
    "                               eventProbVar='EM_PREDICTION',\n",
    "                               jPath=zipFolder,\n",
    "                               modeler='sasdemo')\n",
    "    \n",
    "    # Write model metadata to a json file\n",
    "    J.writeFileMetadataJSON(modelPrefix, jPath=zipFolder)\n",
    "\n",
    "writeJSONFiles(housingData, predictorColumns, targetColumn, zipFolder, modelPrefix)"
   ]
  },
  {
   "cell_type": "code",
   "execution_count": null,
   "metadata": {},
   "outputs": [],
   "source": [
    "import getpass\n",
    "username = getpass.getpass()\n",
    "password = getpass.getpass()\n",
    "host = 'demo.sas.com'\n",
    "sess = Session(host, username, password, protocol='http')"
   ]
  },
  {
   "cell_type": "code",
   "execution_count": null,
   "metadata": {},
   "outputs": [],
   "source": [
    "I = pzmm.ImportModel()\n",
    "I.pzmmImportModel(zipFolder, modelPrefix, 'LinearRegressionModelExample', x, y, '{}.predict({})', force=True, metrics=['EM_PREDICTION', 'EM_PREDICTION'])"
   ]
  },
  {
   "cell_type": "code",
   "execution_count": null,
   "metadata": {},
   "outputs": [],
   "source": []
  }
 ],
 "metadata": {
  "interpreter": {
   "hash": "f9708d3f38eeab835578f0695c8890716ee809285281a28db6e379a5abca1310"
  },
  "kernelspec": {
   "display_name": "Python 3 (ipykernel)",
   "language": "python",
   "name": "python3"
  },
  "language_info": {
   "codemirror_mode": {
    "name": "ipython",
    "version": 3
   },
   "file_extension": ".py",
   "mimetype": "text/x-python",
   "name": "python",
   "nbconvert_exporter": "python",
   "pygments_lexer": "ipython3",
   "version": "3.9.12"
  },
  "latex_envs": {
   "LaTeX_envs_menu_present": true,
   "autoclose": true,
   "autocomplete": true,
   "bibliofile": "biblio.bib",
   "cite_by": "apalike",
   "current_citInitial": 1,
   "eqLabelWithNumbers": true,
   "eqNumInitial": 1,
   "hotkeys": {
    "equation": "Ctrl-E",
    "itemize": "Ctrl-I"
   },
   "labels_anchors": false,
   "latex_user_defs": false,
   "report_style_numbering": false,
   "user_envs_cfg": false
  },
  "varInspector": {
   "cols": {
    "lenName": 16,
    "lenType": 16,
    "lenVar": 40
   },
   "kernels_config": {
    "python": {
     "delete_cmd_postfix": "",
     "delete_cmd_prefix": "del ",
     "library": "var_list.py",
     "varRefreshCmd": "print(var_dic_list())"
    },
    "r": {
     "delete_cmd_postfix": ") ",
     "delete_cmd_prefix": "rm(",
     "library": "var_list.r",
     "varRefreshCmd": "cat(var_dic_list()) "
    }
   },
   "types_to_exclude": [
    "module",
    "function",
    "builtin_function_or_method",
    "instance",
    "_Feature"
   ],
   "window_display": false
  }
 },
 "nbformat": 4,
 "nbformat_minor": 4
}
