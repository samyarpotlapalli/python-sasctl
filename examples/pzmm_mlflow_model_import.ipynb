{
 "cells": [
  {
   "cell_type": "markdown",
   "metadata": {
    "Collapsed": "false"
   },
   "source": [
    "Copyright © 2023, SAS Institute Inc., Cary, NC, USA.  All Rights Reserved.\n",
    "SPDX-License-Identifier: Apache-2.0"
   ]
  },
  {
   "cell_type": "markdown",
   "metadata": {},
   "source": [
    "### MLFlow Preamble"
   ]
  },
  {
   "cell_type": "markdown",
   "metadata": {},
   "source": [
    "In order to import MLFlow models into SAS Model Manager, there are a few lines that need to be included in the MLFlow script. First of all, include the infer_signature function in the import statements:"
   ]
  },
  {
   "cell_type": "markdown",
   "metadata": {},
   "source": [
    "```\n",
    "from mlflow.models.signature import infer_signature\n",
    "```"
   ]
  },
  {
   "cell_type": "markdown",
   "metadata": {},
   "source": [
    "Next, adjust any data columns which are not valid Python variable names:"
   ]
  },
  {
   "cell_type": "markdown",
   "metadata": {},
   "source": [
    "```\n",
    "import pandas as pd\n",
    "data = pd.read_csv(\"YOUR-DATA-GOES-HERE.DATA\")\n",
    "data.columns = data.columns.str.replace(\"\\W|^(?=\\d)\", \"_\", regex=True)\n",
    "```"
   ]
  },
  {
   "cell_type": "markdown",
   "metadata": {},
   "source": [
    "Include the signature inference after any paramater logging is defined and include a signature argument in the model logging:"
   ]
  },
  {
   "cell_type": "markdown",
   "metadata": {},
   "source": [
    "```\n",
    "import mlflow\n",
    "signature = infer_signature(data, model.predict(data))\n",
    "mlflow.sklearn.log_model(model, \"model\", signature=signature)\n",
    "```"
   ]
  },
  {
   "cell_type": "markdown",
   "metadata": {
    "Collapsed": "false"
   },
   "source": [
    "### Python Package Imports"
   ]
  },
  {
   "cell_type": "code",
   "execution_count": 1,
   "metadata": {
    "Collapsed": "false"
   },
   "outputs": [],
   "source": [
    "# Pathing support\n",
    "from pathlib import Path\n",
    "\n",
    "# sasctl interface for importing models\n",
    "import sasctl.pzmm as pzmm\n",
    "from sasctl import Session"
   ]
  },
  {
   "cell_type": "markdown",
   "metadata": {},
   "source": [
    "### Collect MLFlow Model Details"
   ]
  },
  {
   "cell_type": "code",
   "execution_count": 2,
   "metadata": {},
   "outputs": [],
   "source": [
    "mlflow_model_path = Path(\"~/MLFlow/mlflow/examples/sklearn_elasticnet_wine/mlruns/0/7100d4e854224371b39c4a9589317121/artifacts/model\")\n",
    "metadata_dict, inputs_dict, outputs_dict = pzmm.MLFlowModel.read_mlflow_model_file(mlflow_model_path)"
   ]
  },
  {
   "cell_type": "code",
   "execution_count": 3,
   "metadata": {},
   "outputs": [
    {
     "data": {
      "text/plain": [
       "{'python_version': '3.7.4',\n",
       " 'serialization_format': 'cloudpickle',\n",
       " 'run_id': '7100d4e854224371b39c4a9589317121',\n",
       " 'model_path': 'model.pkl',\n",
       " 'mlflowPath': WindowsPath('~/MLFlow/mlflow/examples/sklearn_elasticnet_wine/mlruns/0/7100d4e854224371b39c4a9589317121/artifacts/model')}"
      ]
     },
     "execution_count": 3,
     "metadata": {},
     "output_type": "execute_result"
    }
   ],
   "source": [
    "metadata_dict"
   ]
  },
  {
   "cell_type": "code",
   "execution_count": 4,
   "metadata": {},
   "outputs": [
    {
     "data": {
      "text/plain": [
       "[{'name': 'fixedacidity', 'type': 'double'},\n",
       " {'name': 'volatileacidity', 'type': 'double'},\n",
       " {'name': 'citricacid', 'type': 'double'},\n",
       " {'name': 'residualsugar', 'type': 'double'},\n",
       " {'name': 'chlorides', 'type': 'double'},\n",
       " {'name': 'freesulfurdioxide', 'type': 'double'},\n",
       " {'name': 'totalsulfurdioxide', 'type': 'double'},\n",
       " {'name': 'density', 'type': 'double'},\n",
       " {'name': 'pH', 'type': 'double'},\n",
       " {'name': 'sulphates', 'type': 'double'},\n",
       " {'name': 'alcohol', 'type': 'double'}]"
      ]
     },
     "execution_count": 4,
     "metadata": {},
     "output_type": "execute_result"
    }
   ],
   "source": [
    "inputs_dict"
   ]
  },
  {
   "cell_type": "code",
   "execution_count": 5,
   "metadata": {},
   "outputs": [
    {
     "data": {
      "text/plain": [
       "[{'type': 'tensor', 'tensor-spec': {'dtype': 'float64', 'shape': [-1]}}]"
      ]
     },
     "execution_count": 5,
     "metadata": {},
     "output_type": "execute_result"
    }
   ],
   "source": [
    "outputs_dict"
   ]
  },
  {
   "cell_type": "markdown",
   "metadata": {
    "Collapsed": "false"
   },
   "source": [
    "### Register Model in SAS Model Manager with pzmm"
   ]
  },
  {
   "cell_type": "code",
   "execution_count": 6,
   "metadata": {
    "Collapsed": "false"
   },
   "outputs": [],
   "source": [
    "model_prefix = \"MLFlowModel\"\n",
    "zip_folder = Path.cwd() / \"data/MLFlowModels/Model1/\"\n",
    "pzmm.PickleModel.pickle_trained_model(\n",
    "    model_prefix=model_prefix, \n",
    "    pickle_path=zip_folder, \n",
    "    mlflow_details=metadata_dict\n",
    ")"
   ]
  },
  {
   "cell_type": "code",
   "execution_count": 7,
   "metadata": {},
   "outputs": [
    {
     "name": "stdout",
     "output_type": "stream",
     "text": [
      "inputVar.json was successfully written and saved to ~\\data\\MLFlowModels\\Model1\\inputVar.json\n",
      "outputVar.json was successfully written and saved to ~\\data\\MLFlowModels\\Model1\\outputVar.json\n"
     ]
    }
   ],
   "source": [
    "pzmm.JSONFiles.write_var_json(inputs_dict, is_input=True, json_path=zip_folder)\n",
    "pzmm.JSONFiles.write_var_json(outputs_dict, is_input=False, json_path=zip_folder)"
   ]
  },
  {
   "cell_type": "code",
   "execution_count": 8,
   "metadata": {
    "Collapsed": "false"
   },
   "outputs": [
    {
     "name": "stdout",
     "output_type": "stream",
     "text": [
      "ModelProperties.json was successfully written and saved to ~\\data\\MLFlowModels\\Model1\\ModelProperties.json\n",
      "fileMetadata.json was successfully written and saved to ~\\data\\MLFlowModels\\Model1\\fileMetadata.json\n"
     ]
    }
   ],
   "source": [
    "# Write model properties to a json file\n",
    "pzmm.JSONFiles.write_model_properties_json(\n",
    "    model_name=model_prefix,\n",
    "    model_desc=\"MLFlow Model\",\n",
    "    target_variable=\"tensor\",\n",
    "    target_values=[\"1\", \"0\"],\n",
    "    json_path=zip_folder,\n",
    "    modeler=\"sasdemo\"\n",
    ")\n",
    "\n",
    "# Write model metadata to a json file\n",
    "pzmm.JSONFiles.write_file_metadata_json(model_prefix, json_path=zip_folder)"
   ]
  },
  {
   "cell_type": "code",
   "execution_count": 9,
   "metadata": {
    "Collapsed": "false"
   },
   "outputs": [],
   "source": [
    "import getpass\n",
    "username = getpass.getpass()\n",
    "password = getpass.getpass()\n",
    "host = \"demo.sas.com\"\n",
    "sess = Session(host, username, password, protocol=\"http\")"
   ]
  },
  {
   "cell_type": "code",
   "execution_count": 10,
   "metadata": {
    "Collapsed": "false"
   },
   "outputs": [
    {
     "name": "stdout",
     "output_type": "stream",
     "text": [
      "Model score code was written successfully to ~\\data\\MLFlowModels\\Model1\\score_MLFlowModel.py and uploaded to SAS Model Manager.\n",
      "All model files were zipped to ~\\data\\MLFlowModels\\Model1.\n"
     ]
    },
    {
     "name": "stderr",
     "output_type": "stream",
     "text": [
      "~\\site-packages\\sasctl\\pzmm\\import_model.py:45: UserWarning: No project with the name or UUID MLFlowProject was found.\n",
      "  warn(f\"No project with the name or UUID {project} was found.\")\n"
     ]
    },
    {
     "name": "stdout",
     "output_type": "stream",
     "text": [
      "A new project named MLFlowProject was created.\n",
      "Model was successfully imported into SAS Model Manager as MLFlowModel with the following UUID: c7247696-0b3d-479a-9f24-adc24ce04273.\n"
     ]
    }
   ],
   "source": [
    "from sklearn.linear_model import ElasticNet\n",
    "model = pzmm.ImportModel.import_model(\n",
    "    model_files=zip_folder, \n",
    "    model_prefix=model_prefix, \n",
    "    input_data=inputs_dict,\n",
    "    project=\"MLFlowProject\",\n",
    "    score_metrics=[\"tensor\"],\n",
    "    pickle_type=metadata_dict[\"serialization_format\"],\n",
    "    predict_method=[ElasticNet.predict, [int]],\n",
    "    overwrite_model=True,\n",
    "    model_file_name=\"MLFlowTest.pickle\"\n",
    ")"
   ]
  },
  {
   "cell_type": "code",
   "execution_count": null,
   "metadata": {},
   "outputs": [],
   "source": []
  }
 ],
 "metadata": {
  "interpreter": {
   "hash": "f9708d3f38eeab835578f0695c8890716ee809285281a28db6e379a5abca1310"
  },
  "kernelspec": {
   "display_name": "dev-py38",
   "language": "python",
   "name": "dev-py38"
  },
  "language_info": {
   "codemirror_mode": {
    "name": "ipython",
    "version": 3
   },
   "file_extension": ".py",
   "mimetype": "text/x-python",
   "name": "python",
   "nbconvert_exporter": "python",
   "pygments_lexer": "ipython3",
   "version": "3.8.16"
  },
  "latex_envs": {
   "LaTeX_envs_menu_present": true,
   "autoclose": true,
   "autocomplete": true,
   "bibliofile": "biblio.bib",
   "cite_by": "apalike",
   "current_citInitial": 1,
   "eqLabelWithNumbers": true,
   "eqNumInitial": 1,
   "hotkeys": {
    "equation": "Ctrl-E",
    "itemize": "Ctrl-I"
   },
   "labels_anchors": false,
   "latex_user_defs": false,
   "report_style_numbering": false,
   "user_envs_cfg": false
  },
  "varInspector": {
   "cols": {
    "lenName": 16,
    "lenType": 16,
    "lenVar": 40
   },
   "kernels_config": {
    "python": {
     "delete_cmd_postfix": "",
     "delete_cmd_prefix": "del ",
     "library": "var_list.py",
     "varRefreshCmd": "print(var_dic_list())"
    },
    "r": {
     "delete_cmd_postfix": ") ",
     "delete_cmd_prefix": "rm(",
     "library": "var_list.r",
     "varRefreshCmd": "cat(var_dic_list()) "
    }
   },
   "types_to_exclude": [
    "module",
    "function",
    "builtin_function_or_method",
    "instance",
    "_Feature"
   ],
   "window_display": false
  }
 },
 "nbformat": 4,
 "nbformat_minor": 4
}
